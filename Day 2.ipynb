{
 "cells": [
  {
   "cell_type": "markdown",
   "id": "a46ad6fc-2de6-490a-befb-04a19f3d45ce",
   "metadata": {},
   "source": [
    "###DATA TYPES"
   ]
  },
  {
   "cell_type": "code",
   "execution_count": 1,
   "id": "f8eadc63-25c5-41ec-840e-34e37174766c",
   "metadata": {},
   "outputs": [
    {
     "name": "stdout",
     "output_type": "stream",
     "text": [
      "e\n"
     ]
    }
   ],
   "source": [
    "print(\"Hello\"[1])"
   ]
  },
  {
   "cell_type": "code",
   "execution_count": 2,
   "id": "d7281dff-3039-491c-a9ed-e31b9a903767",
   "metadata": {},
   "outputs": [
    {
     "name": "stdout",
     "output_type": "stream",
     "text": [
      "H\n"
     ]
    }
   ],
   "source": [
    "print(\"Hello\"[0])"
   ]
  },
  {
   "cell_type": "code",
   "execution_count": 3,
   "id": "2b2ad7fd-1f4e-45a2-86fb-07773fe2595f",
   "metadata": {},
   "outputs": [
    {
     "name": "stdout",
     "output_type": "stream",
     "text": [
      "o\n"
     ]
    }
   ],
   "source": [
    "print(\"Hello\"[4])"
   ]
  },
  {
   "cell_type": "code",
   "execution_count": 4,
   "id": "0a6472bd-b6e7-4a2d-9b73-44515a6fc2cc",
   "metadata": {},
   "outputs": [
    {
     "name": "stdout",
     "output_type": "stream",
     "text": [
      "123345\n"
     ]
    }
   ],
   "source": [
    "print(123_345)"
   ]
  },
  {
   "cell_type": "code",
   "execution_count": 5,
   "id": "c1f5dbf2-b5b5-47f4-a46a-13f3236abb56",
   "metadata": {},
   "outputs": [
    {
     "name": "stdout",
     "output_type": "stream",
     "text": [
      "<class 'int'>\n",
      "<class 'str'>\n"
     ]
    }
   ],
   "source": [
    "num=8\n",
    "print(type(num))\n",
    "n2=str(num)\n",
    "print(type(n2))"
   ]
  },
  {
   "cell_type": "code",
   "execution_count": 6,
   "id": "9c0b67e4-b470-41cb-98d3-9cfb3c5eeb3b",
   "metadata": {},
   "outputs": [
    {
     "name": "stdin",
     "output_type": "stream",
     "text": [
      " 12\n"
     ]
    },
    {
     "name": "stdout",
     "output_type": "stream",
     "text": [
      "1\n",
      "2\n",
      "3\n"
     ]
    }
   ],
   "source": [
    "two=input()\n",
    "n1=int(two[0])\n",
    "n2=int(two[1])\n",
    "print(n1)\n",
    "print(n2)\n",
    "print(n1+n2)"
   ]
  },
  {
   "cell_type": "code",
   "execution_count": 7,
   "id": "9bbc83ef-370e-4783-a20c-be533b396ac3",
   "metadata": {},
   "outputs": [
    {
     "name": "stdout",
     "output_type": "stream",
     "text": [
      "5\n",
      "3\n",
      "6\n",
      "1\n",
      "1.5\n",
      "16\n",
      "1.0\n"
     ]
    }
   ],
   "source": [
    "print(3+2)\n",
    "print(7-4)\n",
    "print(3*2)\n",
    "print(int(3/2))\n",
    "print((3/2))\n",
    "print(2**4)\n",
    "print(5+2-3*4/2)##PENDASLR paranthesis expotentional (mul div) (add sub) left right"
   ]
  },
  {
   "cell_type": "code",
   "execution_count": 8,
   "id": "f1c24bea-8e2f-41b4-88b4-4f705247eebf",
   "metadata": {},
   "outputs": [
    {
     "name": "stdout",
     "output_type": "stream",
     "text": [
      "Enter height\n",
      "\n"
     ]
    },
    {
     "name": "stdin",
     "output_type": "stream",
     "text": [
      " 123\n"
     ]
    },
    {
     "name": "stdout",
     "output_type": "stream",
     "text": [
      "Enter weight\n",
      "\n"
     ]
    },
    {
     "name": "stdin",
     "output_type": "stream",
     "text": [
      " 23\n"
     ]
    },
    {
     "name": "stdout",
     "output_type": "stream",
     "text": [
      "0.0015202591050300746\n"
     ]
    }
   ],
   "source": [
    "print(\"Enter height\\n\")\n",
    "h=int(input())\n",
    "print(\"Enter weight\\n\")\n",
    "w=int(input())\n",
    "bmi=w/h**2\n",
    "print(bmi)"
   ]
  },
  {
   "cell_type": "code",
   "execution_count": 9,
   "id": "552d8b6c-7ba0-4fce-9056-460e1bdc7ec9",
   "metadata": {},
   "outputs": [
    {
     "name": "stdout",
     "output_type": "stream",
     "text": [
      "3\n",
      "2.67\n",
      "2.44\n",
      "2\n"
     ]
    }
   ],
   "source": [
    "print(round(8/3))\n",
    "print(round(8/3,2))\n",
    "print(round(2.4444444444449,2))\n",
    "print(8//3)"
   ]
  },
  {
   "cell_type": "code",
   "execution_count": 10,
   "id": "3a6d22d3-e69b-47c9-8687-be01d68774b7",
   "metadata": {},
   "outputs": [
    {
     "name": "stdin",
     "output_type": "stream",
     "text": [
      " 123\n"
     ]
    },
    {
     "name": "stdout",
     "output_type": "stream",
     "text": [
      "Hello 124\n",
      "Hello 124\n"
     ]
    }
   ],
   "source": [
    "s=int(input())\n",
    "s+=1\n",
    "print(f\"Hello {s}\")\n",
    "print(\"Hello \"+str(s))\n"
   ]
  },
  {
   "cell_type": "code",
   "execution_count": 11,
   "id": "9b07a208-f3f4-4203-b53f-fc28def8873d",
   "metadata": {},
   "outputs": [
    {
     "name": "stdin",
     "output_type": "stream",
     "text": [
      " 123\n"
     ]
    },
    {
     "name": "stdout",
     "output_type": "stream",
     "text": [
      "You have -1716 week left\n"
     ]
    }
   ],
   "source": [
    "age=int(input())\n",
    "year=90-age\n",
    "week=year*52\n",
    "print(f\"You have {week} week left\")"
   ]
  },
  {
   "cell_type": "code",
   "execution_count": 12,
   "id": "1e3f97f4-905a-4b38-af8b-535e53b62765",
   "metadata": {},
   "outputs": [
    {
     "name": "stdout",
     "output_type": "stream",
     "text": [
      "Welcome to the tip calculator!\n"
     ]
    },
    {
     "name": "stdin",
     "output_type": "stream",
     "text": [
      "What was the total bill? 124\n",
      "How much tip you like to give?10,12, or 15 12\n",
      "How many people to split the bill 7\n"
     ]
    },
    {
     "name": "stdout",
     "output_type": "stream",
     "text": [
      "Each person should pay:19.84\n"
     ]
    }
   ],
   "source": [
    "print(\"Welcome to the tip calculator!\")\n",
    "bill=float(input(\"What was the total bill?\"))\n",
    "tip=int(input(\"How much tip you like to give?10,12, or 15\"))\n",
    "tip=bill*(tip/100)\n",
    "split=int(input(\"How many people to split the bill\"))\n",
    "t=round((bill+tip)/split,2)\n",
    "print(f\"Each person should pay:{t}\")"
   ]
  },
  {
   "cell_type": "code",
   "execution_count": null,
   "id": "8b6fdb70-0213-43fc-9aa8-92a612041e1e",
   "metadata": {},
   "outputs": [],
   "source": []
  }
 ],
 "metadata": {
  "kernelspec": {
   "display_name": "Python 3 (ipykernel)",
   "language": "python",
   "name": "python3"
  },
  "language_info": {
   "codemirror_mode": {
    "name": "ipython",
    "version": 3
   },
   "file_extension": ".py",
   "mimetype": "text/x-python",
   "name": "python",
   "nbconvert_exporter": "python",
   "pygments_lexer": "ipython3",
   "version": "3.11.7"
  }
 },
 "nbformat": 4,
 "nbformat_minor": 5
}
