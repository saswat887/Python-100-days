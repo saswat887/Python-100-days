{
 "cells": [
  {
   "cell_type": "code",
   "execution_count": 6,
   "id": "89828339-75aa-44e3-abcc-ccc4afefc05c",
   "metadata": {},
   "outputs": [
    {
     "name": "stdout",
     "output_type": "stream",
     "text": [
      "Welcome to the rollercoaster\n"
     ]
    },
    {
     "name": "stdin",
     "output_type": "stream",
     "text": [
      "What is your height in cm? 120\n"
     ]
    },
    {
     "name": "stdout",
     "output_type": "stream",
     "text": [
      "You can ride the rollercoaster\n"
     ]
    }
   ],
   "source": [
    "print(\"Welcome to the rollercoaster\")\n",
    "height=int(input(\"What is your height in cm?\"))\n",
    "if height>=120:\n",
    "    print(\"You can ride the rollercoaster\")\n",
    "else:\n",
    "    print(\"You cannot ride the rollercoaster\")\n",
    "    "
   ]
  },
  {
   "cell_type": "code",
   "execution_count": 8,
   "id": "bf50c7e0-ca75-414f-b175-b7f4bcbe4d13",
   "metadata": {},
   "outputs": [
    {
     "name": "stdin",
     "output_type": "stream",
     "text": [
      "Enter the number 13\n"
     ]
    },
    {
     "name": "stdout",
     "output_type": "stream",
     "text": [
      "Odd number\n"
     ]
    }
   ],
   "source": [
    "number=int(input(\"Enter the number\"))\n",
    "if number%2==0:\n",
    "    print(\"Even number\")\n",
    "elif number%2!=0:\n",
    "    print(\"Odd number\")"
   ]
  },
  {
   "cell_type": "code",
   "execution_count": 9,
   "id": "958d5f60-fe03-42b4-8c8c-4b604a35606c",
   "metadata": {},
   "outputs": [
    {
     "name": "stdout",
     "output_type": "stream",
     "text": [
      "Welcome to the rollercoaster\n"
     ]
    },
    {
     "name": "stdin",
     "output_type": "stream",
     "text": [
      "What is your height in cm? 134\n"
     ]
    },
    {
     "name": "stdout",
     "output_type": "stream",
     "text": [
      "You can ride the rollercoaster\n"
     ]
    },
    {
     "name": "stdin",
     "output_type": "stream",
     "text": [
      "What is your age 18\n"
     ]
    },
    {
     "name": "stdout",
     "output_type": "stream",
     "text": [
      "Pay 7$\n"
     ]
    }
   ],
   "source": [
    "print(\"Welcome to the rollercoaster\")\n",
    "height=int(input(\"What is your height in cm?\"))\n",
    "if height>=120:\n",
    "    print(\"You can ride the rollercoaster\")\n",
    "    age=int(input(\"What is your age\"))\n",
    "    if age<=18:\n",
    "        print(\"Pay 7$\")\n",
    "    else:\n",
    "        print(\"Pay 12$\")\n",
    "else:\n",
    "    print(\"You cannot ride the rollercoaster\")"
   ]
  },
  {
   "cell_type": "code",
   "execution_count": 12,
   "id": "6fff2413-2f21-4ad8-b709-c80370eeb400",
   "metadata": {},
   "outputs": [
    {
     "name": "stdout",
     "output_type": "stream",
     "text": [
      "Welcome to the rollercoaster\n"
     ]
    },
    {
     "name": "stdin",
     "output_type": "stream",
     "text": [
      "What is your height in cm? 124\n"
     ]
    },
    {
     "name": "stdout",
     "output_type": "stream",
     "text": [
      "You can ride the rollercoaster\n"
     ]
    },
    {
     "name": "stdin",
     "output_type": "stream",
     "text": [
      "What is your age 34\n"
     ]
    },
    {
     "name": "stdout",
     "output_type": "stream",
     "text": [
      "Pay 12$\n"
     ]
    }
   ],
   "source": [
    "print(\"Welcome to the rollercoaster\")\n",
    "height=int(input(\"What is your height in cm?\"))\n",
    "if height>=120:\n",
    "    print(\"You can ride the rollercoaster\")\n",
    "    age=int(input(\"What is your age\"))\n",
    "    if age<12:\n",
    "        print(\"Pay 5$\")\n",
    "    elif age<=18:\n",
    "        print(\"Pay 7$\")\n",
    "    else:\n",
    "        print(\"Pay 12$\")\n",
    "else:\n",
    "    print(\"You cannot ride the rollercoaster\")"
   ]
  },
  {
   "cell_type": "code",
   "execution_count": 17,
   "id": "57731336-f848-4103-bea6-4e09609b1e45",
   "metadata": {},
   "outputs": [
    {
     "name": "stdin",
     "output_type": "stream",
     "text": [
      "Enter height 100\n",
      "Enter weight 80\n"
     ]
    },
    {
     "name": "stdout",
     "output_type": "stream",
     "text": [
      "Clinicilly Obese\n"
     ]
    }
   ],
   "source": [
    "height=int(input(\"Enter height\"))\n",
    "weight=int(input(\"Enter weight\"))\n",
    "bmi=weight/(height/100)**2\n",
    "if bmi<18.5:\n",
    "    print(\"Underweight\")\n",
    "elif bmi>18.5 and bmi<25:\n",
    "    print(\"Normal weight\")\n",
    "elif bmi>25 and bmi<30:\n",
    "    print(\"Slightly Overweight\")\n",
    "elif bmi>30 and bmi<35:\n",
    "    print(\"Obese\")\n",
    "else:\n",
    "    print(\"Clinicilly Obese\")"
   ]
  },
  {
   "cell_type": "code",
   "execution_count": 20,
   "id": "fb185ebf-5adb-4f76-abd0-c69eff0b1d52",
   "metadata": {},
   "outputs": [
    {
     "name": "stdin",
     "output_type": "stream",
     "text": [
      "Enter year 1900\n"
     ]
    },
    {
     "name": "stdout",
     "output_type": "stream",
     "text": [
      "Not Leap Year\n"
     ]
    }
   ],
   "source": [
    "year=int(input(\"Enter year\"))\n",
    "if year%100==0:\n",
    "    if year%400==0:\n",
    "        print(\"Leap Year\")\n",
    "    else:\n",
    "        print(\"Not Leap Year\")\n",
    "else:\n",
    "    if year%4==0:\n",
    "        print(\"Leap Year\")\n",
    "    else:\n",
    "        print(\"Not Leap Year\")\n"
   ]
  },
  {
   "cell_type": "code",
   "execution_count": 22,
   "id": "f5b04622-d578-4a1f-b62a-7bc192922429",
   "metadata": {},
   "outputs": [
    {
     "name": "stdout",
     "output_type": "stream",
     "text": [
      "Welcome to the rollercoaster\n"
     ]
    },
    {
     "name": "stdin",
     "output_type": "stream",
     "text": [
      "What is your height in cm? 134\n"
     ]
    },
    {
     "name": "stdout",
     "output_type": "stream",
     "text": [
      "You can ride the rollercoaster\n"
     ]
    },
    {
     "name": "stdin",
     "output_type": "stream",
     "text": [
      "What is your age 40\n"
     ]
    },
    {
     "name": "stdout",
     "output_type": "stream",
     "text": [
      "Pay 12$\n",
      "Want Photos\n"
     ]
    },
    {
     "name": "stdin",
     "output_type": "stream",
     "text": [
      "None yes\n"
     ]
    },
    {
     "name": "stdout",
     "output_type": "stream",
     "text": [
      "Your total bill 15$\n"
     ]
    }
   ],
   "source": [
    "print(\"Welcome to the rollercoaster\")\n",
    "height=int(input(\"What is your height in cm?\"))\n",
    "bill=0\n",
    "if height>=120:\n",
    "    print(\"You can ride the rollercoaster\")\n",
    "    age=int(input(\"What is your age\"))\n",
    "    if age<12:\n",
    "        print(\"Pay 5$\")\n",
    "        bill=bill+5\n",
    "    elif age<=18:\n",
    "        print(\"Pay 7$\")\n",
    "        bill=bill+7\n",
    "    else:\n",
    "        print(\"Pay 12$\")\n",
    "        bill=bill+12\n",
    "    p=input(print(\"Want Photos\"))\n",
    "    if p==\"yes\":\n",
    "        bill=bill+3\n",
    "    print(f\"Your total bill {bill}$\")\n",
    "    \n",
    "else:\n",
    "    print(\"You cannot ride the rollercoaster\")"
   ]
  },
  {
   "cell_type": "code",
   "execution_count": 28,
   "id": "7a1d25bb-2978-42f5-a7ea-4942116e6bb2",
   "metadata": {},
   "outputs": [
    {
     "name": "stdout",
     "output_type": "stream",
     "text": [
      "Thank you for choosing Pizza Deliveries\n"
     ]
    },
    {
     "name": "stdin",
     "output_type": "stream",
     "text": [
      "Enter size S,M,L L\n",
      "Add pepporoni Y,N Y\n",
      "Extra cheese Y,N N\n"
     ]
    },
    {
     "name": "stdout",
     "output_type": "stream",
     "text": [
      "27\n"
     ]
    }
   ],
   "source": [
    "print(\"Thank you for choosing Pizza Deliveries\")\n",
    "size=input(\"Enter size S,M,L\")\n",
    "pep=input(\"Add pepporoni Y,N\")\n",
    "che=input(\"Extra cheese Y,N\")\n",
    "bill=0;\n",
    "if size==\"S\":\n",
    "    bill+=15 \n",
    "elif size==\"M\":\n",
    "    bill+=20\n",
    "elif size==\"L\":\n",
    "    bill+=25\n",
    "if pep==\"Y\":\n",
    "    bill+=2\n",
    "if che==\"Y\":\n",
    "    bill+=3\n",
    "\n",
    "print(bill)"
   ]
  },
  {
   "cell_type": "code",
   "execution_count": 36,
   "id": "631f494a-fc37-466e-8306-7b90c81b1c7b",
   "metadata": {},
   "outputs": [
    {
     "name": "stdin",
     "output_type": "stream",
     "text": [
      "What is your name Sai\n",
      "What is their name Pratikshya\n"
     ]
    },
    {
     "name": "stdout",
     "output_type": "stream",
     "text": [
      "20\n"
     ]
    }
   ],
   "source": [
    "name1=input(\"What is your name\")\n",
    "name2=input(\"What is their name\")\n",
    "name3=name1+name2\n",
    "name3=name3.lower()\n",
    "t=name3.count(\"t\")\n",
    "r=name3.count(\"r\")\n",
    "u=name3.count(\"u\")\n",
    "e=name3.count(\"e\")\n",
    "fir=t+r+u+e\n",
    "l=name3.count(\"l\")\n",
    "o=name3.count(\"o\")\n",
    "v=name3.count(\"v\")\n",
    "e=name3.count(\"e\")\n",
    "sec=l+o+v+e\n",
    "s=fir*10+sec\n",
    "\n",
    "if(s<10) or (s>90):\n",
    "    print(f\"Your score is {s},tou go together like coke and mentos.\")\n",
    "elif(s<10) or (s>90):\n",
    "    print(f\"Your score is {s},tou go together like coke and mentos.\")\n"
   ]
  },
  {
   "cell_type": "code",
   "execution_count": 2,
   "id": "6c6b408c-27e7-4c62-b3de-43e183e83d9b",
   "metadata": {},
   "outputs": [
    {
     "name": "stdout",
     "output_type": "stream",
     "text": [
      "\n",
      "*******************************************************************************\n",
      "          |                   |                  |                     |\n",
      " _________|________________.=\"\"_;=.______________|_____________________|_______\n",
      "|                   |  ,-\"_,=\"\"     `\"=.|                  |\n",
      "|___________________|__\"=._o`\"-._        `\"=.______________|___________________\n",
      "          |                `\"=._o`\"=._      _`\"=._                     |\n",
      " _________|_____________________:=._o \"=._.\"_.-=\"'\"=.__________________|_______\n",
      "|                   |    __.--\" , ; `\"=._o.\" ,-\"\"\"-._ \".   |\n",
      "|___________________|_._\"  ,. .` ` `` ,  `\"-._\"-._   \". '__|___________________\n",
      "          |           |o`\"=._` , \"` `; .\". ,  \"-._\"-._; ;              |\n",
      " _________|___________| ;`-.o`\"=._; .\" ` '`.\"\\` . \"-._ /_______________|_______\n",
      "|                   | |o;    `\"-.o`\"=._``  '` \" ,__.--o;   |\n",
      "|___________________|_| ;     (#) `-.o `\"=.`_.--\"_o.-; ;___|___________________\n",
      "____/______/______/___|o;._    \"      `\".o|o_.--\"    ;o;____/______/______/____\n",
      "/______/______/______/_\"=._o--._        ; | ;        ; ;/______/______/______/_\n",
      "____/______/______/______/__\"=._o--._   ;o|o;     _._;o;____/______/______/____\n",
      "/______/______/______/______/____\"=._o._; | ;_.--\"o.--\"_/______/______/______/_\n",
      "____/______/______/______/______/_____\"=.o|o_.--\"\"___/______/______/______/____\n",
      "/______/______/______/______/______/______/______/______/______/______/_____ /\n",
      "*******************************************************************************\n",
      "\n",
      "Welcome to Treasure Island.\n",
      "Your mission is to find the treasure.\n"
     ]
    },
    {
     "name": "stdin",
     "output_type": "stream",
     "text": [
      "Left or Right right\n"
     ]
    },
    {
     "name": "stdout",
     "output_type": "stream",
     "text": [
      "Fall into hole \n",
      " Game Over\n"
     ]
    }
   ],
   "source": [
    "print('''\n",
    "*******************************************************************************\n",
    "          |                   |                  |                     |\n",
    " _________|________________.=\"\"_;=.______________|_____________________|_______\n",
    "|                   |  ,-\"_,=\"\"     `\"=.|                  |\n",
    "|___________________|__\"=._o`\"-._        `\"=.______________|___________________\n",
    "          |                `\"=._o`\"=._      _`\"=._                     |\n",
    " _________|_____________________:=._o \"=._.\"_.-=\"'\"=.__________________|_______\n",
    "|                   |    __.--\" , ; `\"=._o.\" ,-\"\"\"-._ \".   |\n",
    "|___________________|_._\"  ,. .` ` `` ,  `\"-._\"-._   \". '__|___________________\n",
    "          |           |o`\"=._` , \"` `; .\". ,  \"-._\"-._; ;              |\n",
    " _________|___________| ;`-.o`\"=._; .\" ` '`.\"\\` . \"-._ /_______________|_______\n",
    "|                   | |o;    `\"-.o`\"=._``  '` \" ,__.--o;   |\n",
    "|___________________|_| ;     (#) `-.o `\"=.`_.--\"_o.-; ;___|___________________\n",
    "____/______/______/___|o;._    \"      `\".o|o_.--\"    ;o;____/______/______/____\n",
    "/______/______/______/_\"=._o--._        ; | ;        ; ;/______/______/______/_\n",
    "____/______/______/______/__\"=._o--._   ;o|o;     _._;o;____/______/______/____\n",
    "/______/______/______/______/____\"=._o._; | ;_.--\"o.--\"_/______/______/______/_\n",
    "____/______/______/______/______/_____\"=.o|o_.--\"\"___/______/______/______/____\n",
    "/______/______/______/______/______/______/______/______/______/______/_____ /\n",
    "*******************************************************************************\n",
    "''')\n",
    "print(\"Welcome to Treasure Island.\")\n",
    "print(\"Your mission is to find the treasure.\") \n",
    "c=input(\"Left or Right\")\n",
    "c=c.lower()\n",
    "if c==\"left\":\n",
    "    c1=input(\"swim or wait\")\n",
    "    c1=c1.lower()\n",
    "    if c1==\"swim\":\n",
    "        print(\"Attacked by trout.\\n Game Over.\")\n",
    "    elif c1==\"wait\":\n",
    "        c2=input(\"which door\")\n",
    "        c2=c2.lower()\n",
    "        if c2==\"red\":\n",
    "            print(\"Burned By fire \\n Game Over\")\n",
    "        elif c2==\"blue\":\n",
    "            print(\"Eaten by Beasts \\n Game Over\")\n",
    "        elif c2==\"yellow\":\n",
    "            print(\"You Win\")\n",
    "        \n",
    "elif c==\"right\": \n",
    "    print(\"Fall into hole \\n Game Over\")"
   ]
  },
  {
   "cell_type": "code",
   "execution_count": null,
   "id": "397c77fd-7279-43b2-9a68-52e1ddf0e506",
   "metadata": {},
   "outputs": [],
   "source": []
  }
 ],
 "metadata": {
  "kernelspec": {
   "display_name": "Python 3 (ipykernel)",
   "language": "python",
   "name": "python3"
  },
  "language_info": {
   "codemirror_mode": {
    "name": "ipython",
    "version": 3
   },
   "file_extension": ".py",
   "mimetype": "text/x-python",
   "name": "python",
   "nbconvert_exporter": "python",
   "pygments_lexer": "ipython3",
   "version": "3.11.7"
  }
 },
 "nbformat": 4,
 "nbformat_minor": 5
}
