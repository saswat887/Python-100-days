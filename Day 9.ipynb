{
 "cells": [
  {
   "cell_type": "code",
   "execution_count": 4,
   "id": "14aca4d0-bc70-47ca-bf86-23c6cd6d630d",
   "metadata": {},
   "outputs": [
    {
     "name": "stdout",
     "output_type": "stream",
     "text": [
      "{1: 1, 2: 2}\n",
      "1\n"
     ]
    }
   ],
   "source": [
    "a={1:1,2:2}\n",
    "print(a)\n",
    "print(a[1])"
   ]
  },
  {
   "cell_type": "code",
   "execution_count": 5,
   "id": "457c7376-86a2-4044-bbc5-ac5bc491390f",
   "metadata": {},
   "outputs": [
    {
     "name": "stdout",
     "output_type": "stream",
     "text": [
      "{'Saswat': 24, 'Sai': 23, 'Swastik': 35}\n",
      "24\n",
      "=====\n",
      "Saswat\n",
      "24\n",
      "Sai\n",
      "23\n",
      "Swastik\n",
      "35\n"
     ]
    }
   ],
   "source": [
    "b={\n",
    "    \"Saswat\":24,\n",
    "    \"Sai\":23,\n",
    "    \"Swastik\":35\n",
    "}\n",
    "print(b)\n",
    "print(b[\"Saswat\"])\n",
    "0print(\"=====\")\n",
    "for a in b:\n",
    "    print(a)##key\n",
    "    print(b[a])##value"
   ]
  },
  {
   "cell_type": "code",
   "execution_count": 1,
   "id": "42dc0e4e-ba87-4aa7-94e0-558677f12f93",
   "metadata": {},
   "outputs": [
    {
     "name": "stdout",
     "output_type": "stream",
     "text": [
      "{'Harry': 'Exceeds Expectations', 'Ron': 'Acceptable', 'Hermione': 'Outstanding', 'Draco': 'Acceptable', 'Neville': 'Fail'}\n"
     ]
    }
   ],
   "source": [
    "student_scores = {\n",
    "  \"Harry\": 81,\n",
    "  \"Ron\": 78,\n",
    "  \"Hermione\": 99, \n",
    "  \"Draco\": 74,\n",
    "  \"Neville\": 62,\n",
    "}\n",
    "\n",
    "# TODO-1: Create an empty dictionary called student_grades.\n",
    "student_grades = {}\n",
    "\n",
    "# TODO-2: Covert scores into grades.\n",
    "for student in student_scores:\n",
    "  score = student_scores[student]\n",
    "  if score > 90:\n",
    "    student_grades[student] = \"Outstanding\"\n",
    "  elif score > 80:\n",
    "    student_grades[student] = \"Exceeds Expectations\"\n",
    "  elif score > 70:\n",
    "    student_grades[student] = \"Acceptable\"\n",
    "  else:\n",
    "    student_grades[student] = \"Fail\"\n",
    "    \n",
    "print(student_grades)"
   ]
  },
  {
   "cell_type": "code",
   "execution_count": 7,
   "id": "e97199e4-ecb0-40f2-9fe8-5d90b226b6c6",
   "metadata": {},
   "outputs": [
    {
     "name": "stdout",
     "output_type": "stream",
     "text": [
      "[{'country': 'France', 'cities_visited': ['Paris', 'Lille', 'Dijon'], 'total_visits': 12}, {'country': 'Germany', 'cities_visited': ['Berlin', 'Hamburg', 'Stuttgart'], 'total_visits': 5}]\n"
     ]
    }
   ],
   "source": [
    "##Python Dictionaries\n",
    "\n",
    "programming_dictionary = {\n",
    "  \"Bug\": \"An error in a program that prevents the program from running as expected.\", \n",
    "  \"Function\": \"A piece of code that you can easily call over and over again.\",\n",
    "}\n",
    "\n",
    "#Retrieving items from dictionary.\n",
    "# print(programming_dictionary[\"Function/\"])\n",
    "\n",
    "#Adding new items to dictionary.\n",
    "programming_dictionary[\"Loop\"] = \"The action of doing something over and over again.\"\n",
    "\n",
    "#Create an empty dictionary.\n",
    "empty_dictionary = {}\n",
    "\n",
    "#Wipe an existing dictionary\n",
    "# programming_dictionary = {}\n",
    "# print(programming_dictionary)\n",
    "\n",
    "#Edit an item in a dictionary\n",
    "programming_dictionary[\"Bug\"] = \"A moth in your computer.\"\n",
    "# print(programming_dictionary)\n",
    "\n",
    "#Loop through a dictionary\n",
    "# for key in programming_dictionary:\n",
    "#   print(key)\n",
    "#   print(programming_dictionary[key])\n",
    "\n",
    "#######################################\n",
    "\n",
    "#Nesting \n",
    "capitals = {\n",
    "  \"France\": \"Paris\",\n",
    "  \"Germany\": \"Berlin\",\n",
    "}\n",
    "\n",
    "#Nesting a List in a Dictionary\n",
    "\n",
    "travel_log = {\n",
    "  \"France\": [\"Paris\", \"Lille\", \"Dijon\"],\n",
    "  \"Germany\": [\"Berlin\", \"Hamburg\", \"Stuttgart\"],\n",
    "}\n",
    "\n",
    "#Nesting Dictionary in a Dictionary\n",
    "\n",
    "travel_log = {\n",
    "  \"France\": {\"cities_visited\": [\"Paris\", \"Lille\", \"Dijon\"], \"total_visits\": 12},\n",
    "  \"Germany\": {\"cities_visited\": [\"Berlin\", \"Hamburg\", \"Stuttgart\"], \"total_visits\": 5},\n",
    "}\n",
    "\n",
    "#Nesting Dictionaries in Lists\n",
    "\n",
    "travel_log = [\n",
    "{\n",
    "  \"country\": \"France\", \n",
    "  \"cities_visited\": [\"Paris\", \"Lille\", \"Dijon\"], \n",
    "  \"total_visits\": 12,\n",
    "},\n",
    "{\n",
    "  \"country\": \"Germany\",\n",
    "  \"cities_visited\": [\"Berlin\", \"Hamburg\", \"Stuttgart\"],\n",
    "  \"total_visits\": 5,\n",
    "},\n",
    "]\n",
    "\n",
    "print(travel_log)"
   ]
  },
  {
   "cell_type": "code",
   "execution_count": 12,
   "id": "76c2ba2f-27cd-470e-bd31-4f665f2ef02d",
   "metadata": {},
   "outputs": [
    {
     "name": "stdin",
     "output_type": "stream",
     "text": [
      " Bh\n",
      " 1\n",
      " 2\n"
     ]
    },
    {
     "name": "stdout",
     "output_type": "stream",
     "text": [
      "I've been to Bh 1 times.\n"
     ]
    },
    {
     "ename": "TypeError",
     "evalue": "'int' object is not subscriptable",
     "output_type": "error",
     "traceback": [
      "\u001b[1;31m---------------------------------------------------------------------------\u001b[0m",
      "\u001b[1;31mTypeError\u001b[0m                                 Traceback (most recent call last)",
      "Cell \u001b[1;32mIn[12], line 26\u001b[0m\n\u001b[0;32m     24\u001b[0m add_new_country(country, visits, list_of_cities)\n\u001b[0;32m     25\u001b[0m \u001b[38;5;28mprint\u001b[39m(\u001b[38;5;124mf\u001b[39m\u001b[38;5;124m\"\u001b[39m\u001b[38;5;124mI\u001b[39m\u001b[38;5;124m'\u001b[39m\u001b[38;5;124mve been to \u001b[39m\u001b[38;5;132;01m{\u001b[39;00mtravel_log[\u001b[38;5;241m2\u001b[39m][\u001b[38;5;124m'\u001b[39m\u001b[38;5;124mcountry\u001b[39m\u001b[38;5;124m'\u001b[39m]\u001b[38;5;132;01m}\u001b[39;00m\u001b[38;5;124m \u001b[39m\u001b[38;5;132;01m{\u001b[39;00mtravel_log[\u001b[38;5;241m2\u001b[39m][\u001b[38;5;124m'\u001b[39m\u001b[38;5;124mvisits\u001b[39m\u001b[38;5;124m'\u001b[39m]\u001b[38;5;132;01m}\u001b[39;00m\u001b[38;5;124m times.\u001b[39m\u001b[38;5;124m\"\u001b[39m)\n\u001b[1;32m---> 26\u001b[0m \u001b[38;5;28mprint\u001b[39m(\u001b[38;5;124mf\u001b[39m\u001b[38;5;124m\"\u001b[39m\u001b[38;5;124mMy favourite city was \u001b[39m\u001b[38;5;132;01m{\u001b[39;00mtravel_log[\u001b[38;5;241m2\u001b[39m][\u001b[38;5;124m'\u001b[39m\u001b[38;5;124mcities\u001b[39m\u001b[38;5;124m'\u001b[39m][\u001b[38;5;241m0\u001b[39m]\u001b[38;5;132;01m}\u001b[39;00m\u001b[38;5;124m.\u001b[39m\u001b[38;5;124m\"\u001b[39m)\n",
      "\u001b[1;31mTypeError\u001b[0m: 'int' object is not subscriptable"
     ]
    }
   ],
   "source": [
    "\n",
    "country = input() # Add country name\n",
    "visits = int(input()) # Number of visits\n",
    "list_of_cities = eval(input()) # create list from formatted string\n",
    "travel_log = [\n",
    "  {\n",
    "    \"country\": \"France\",\n",
    "    \"visits\": 12,\n",
    "    \"cities\": [\"Paris\", \"Lille\", \"Dijon\"]\n",
    "  },\n",
    "  {\n",
    "    \"country\": \"Germany\",\n",
    "    \"visits\": 5,\n",
    "    \"cities\": [\"Berlin\", \"Hamburg\", \"Stuttgart\"]\n",
    "  },\n",
    "]\n",
    "# Your code here 👇\n",
    "def add_new_country(name, times_visited, cities_visited):\n",
    "  new_country = {}\n",
    "  new_country[\"country\"] = name\n",
    "  new_country[\"visits\"] = times_visited\n",
    "  new_country[\"cities\"] = cities_visited\n",
    "  travel_log.append(new_country)\n",
    "\n",
    "add_new_country(country, visits, list_of_cities)\n",
    "print(f\"I've been to {travel_log[2]['country']} {travel_log[2]['visits']} times.\")\n",
    "print(f\"My favourite city was {travel_log[2]['cities'][0]}.\")"
   ]
  },
  {
   "cell_type": "code",
   "execution_count": null,
   "id": "b08af64d-7f5a-44e2-9e03-b31149acec3f",
   "metadata": {},
   "outputs": [],
   "source": []
  }
 ],
 "metadata": {
  "kernelspec": {
   "display_name": "Python 3 (ipykernel)",
   "language": "python",
   "name": "python3"
  },
  "language_info": {
   "codemirror_mode": {
    "name": "ipython",
    "version": 3
   },
   "file_extension": ".py",
   "mimetype": "text/x-python",
   "name": "python",
   "nbconvert_exporter": "python",
   "pygments_lexer": "ipython3",
   "version": "3.11.7"
  }
 },
 "nbformat": 4,
 "nbformat_minor": 5
}
