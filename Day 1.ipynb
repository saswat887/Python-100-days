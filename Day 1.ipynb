{
 "cells": [
  {
   "cell_type": "code",
   "execution_count": 1,
   "id": "379359a2-00c5-438f-9917-6cd398bffe72",
   "metadata": {},
   "outputs": [
    {
     "name": "stdout",
     "output_type": "stream",
     "text": [
      "Hello Word\n"
     ]
    }
   ],
   "source": [
    "print(\"Hello Word\")"
   ]
  },
  {
   "cell_type": "code",
   "execution_count": 2,
   "id": "38f63917-3776-45a0-8684-6916fe90348d",
   "metadata": {},
   "outputs": [
    {
     "name": "stdout",
     "output_type": "stream",
     "text": [
      "100\n"
     ]
    }
   ],
   "source": [
    "print(100)"
   ]
  },
  {
   "cell_type": "code",
   "execution_count": 3,
   "id": "56576948-fe35-405d-9684-f1e6ab388425",
   "metadata": {},
   "outputs": [],
   "source": [
    "##print(\"aaa\"aaaa\"aaaa\")  error"
   ]
  },
  {
   "cell_type": "code",
   "execution_count": 4,
   "id": "23ebf945-cc5c-4a9b-8fc7-1cd7a829e2aa",
   "metadata": {},
   "outputs": [
    {
     "name": "stdout",
     "output_type": "stream",
     "text": [
      "aaa\"aaaa\"aaaa\n"
     ]
    }
   ],
   "source": [
    "print('aaa\"aaaa\"aaaa')"
   ]
  },
  {
   "cell_type": "code",
   "execution_count": 5,
   "id": "9aea857b-e54a-4822-a200-7aeb38090296",
   "metadata": {},
   "outputs": [
    {
     "name": "stdout",
     "output_type": "stream",
     "text": [
      "aaa\"aaaa\"aaaa\n"
     ]
    }
   ],
   "source": [
    "print(\"aaa\\\"aaaa\\\"aaaa\")"
   ]
  },
  {
   "cell_type": "code",
   "execution_count": 6,
   "id": "a250c38d-6b1c-4cf8-8faa-9ee38fbfa806",
   "metadata": {},
   "outputs": [
    {
     "name": "stdout",
     "output_type": "stream",
     "text": [
      "Saswat\n",
      "Nayak\n"
     ]
    }
   ],
   "source": [
    "print(\"Saswat\\nNayak\")"
   ]
  },
  {
   "cell_type": "code",
   "execution_count": 7,
   "id": "d0b6d4b4-3f1e-49ee-9b2b-d07fa41b63ae",
   "metadata": {},
   "outputs": [
    {
     "name": "stdout",
     "output_type": "stream",
     "text": [
      "SaswatNayak\n"
     ]
    }
   ],
   "source": [
    "print(\"Saswat\"+\"Nayak\")"
   ]
  },
  {
   "cell_type": "code",
   "execution_count": 9,
   "id": "b1554622-bb5f-4d8d-914f-9079df9e8f36",
   "metadata": {},
   "outputs": [
    {
     "name": "stdout",
     "output_type": "stream",
     "text": [
      "Saswat  Nayak\n"
     ]
    }
   ],
   "source": [
    "print(\"Saswat \"+\" Nayak\")"
   ]
  },
  {
   "cell_type": "code",
   "execution_count": 10,
   "id": "ae5e622b-d579-4f51-b73a-8022a3542db7",
   "metadata": {},
   "outputs": [
    {
     "name": "stdin",
     "output_type": "stream",
     "text": [
      "What is your name? Saswat\n"
     ]
    },
    {
     "data": {
      "text/plain": [
       "'Saswat'"
      ]
     },
     "execution_count": 10,
     "metadata": {},
     "output_type": "execute_result"
    }
   ],
   "source": [
    "input(\"What is your name?\")"
   ]
  },
  {
   "cell_type": "code",
   "execution_count": 11,
   "id": "9d18b195-e307-4045-8d0c-65da2aad45f9",
   "metadata": {},
   "outputs": [
    {
     "name": "stdin",
     "output_type": "stream",
     "text": [
      "What is your name? Saswat\n"
     ]
    },
    {
     "name": "stdout",
     "output_type": "stream",
     "text": [
      "Saswat\n"
     ]
    }
   ],
   "source": [
    "a=input(\"What is your name?\")\n",
    "print(a)"
   ]
  },
  {
   "cell_type": "code",
   "execution_count": 12,
   "id": "9b6673be-bafa-49f4-a4df-671357bc177b",
   "metadata": {},
   "outputs": [
    {
     "name": "stdin",
     "output_type": "stream",
     "text": [
      "What is your name? Saswat\n"
     ]
    },
    {
     "name": "stdout",
     "output_type": "stream",
     "text": [
      "Saswat The Great\n"
     ]
    }
   ],
   "source": [
    "a=input(\"What is your name?\")\n",
    "print(a+\" The Great\")"
   ]
  },
  {
   "cell_type": "code",
   "execution_count": null,
   "id": "4eb6a897-55ef-430a-9a6c-76999be72acc",
   "metadata": {},
   "outputs": [],
   "source": [
    "print('Hello'+input(\"What is your name?\"))"
   ]
  },
  {
   "cell_type": "code",
   "execution_count": null,
   "id": "fefb9788-4425-4d7d-8f66-9231fd8849b0",
   "metadata": {},
   "outputs": [],
   "source": []
  }
 ],
 "metadata": {
  "kernelspec": {
   "display_name": "Python 3 (ipykernel)",
   "language": "python",
   "name": "python3"
  },
  "language_info": {
   "codemirror_mode": {
    "name": "ipython",
    "version": 3
   },
   "file_extension": ".py",
   "mimetype": "text/x-python",
   "name": "python",
   "nbconvert_exporter": "python",
   "pygments_lexer": "ipython3",
   "version": "3.11.7"
  }
 },
 "nbformat": 4,
 "nbformat_minor": 5
}
