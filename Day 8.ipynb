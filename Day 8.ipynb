{
 "cells": [
  {
   "cell_type": "code",
   "execution_count": 1,
   "id": "af54d387-f197-41e5-9694-2570f5fbaafc",
   "metadata": {},
   "outputs": [
    {
     "name": "stdout",
     "output_type": "stream",
     "text": [
      "x=19\n",
      "y=10\n"
     ]
    }
   ],
   "source": [
    "def a(x,y):\n",
    "    print(f\"x={x}\")\n",
    "    print(f\"y={y}\")\n",
    "\n",
    "a(y=10,x=19)"
   ]
  },
  {
   "cell_type": "code",
   "execution_count": 2,
   "id": "9eefee14-83bc-4741-b87f-4042a5d226fe",
   "metadata": {},
   "outputs": [
    {
     "name": "stdout",
     "output_type": "stream",
     "text": [
      "Enter height\n"
     ]
    },
    {
     "name": "stdin",
     "output_type": "stream",
     "text": [
      "Enter height 12\n",
      "Enter width 23\n"
     ]
    },
    {
     "name": "stdout",
     "output_type": "stream",
     "text": [
      "Area=276\n"
     ]
    }
   ],
   "source": [
    "def area(height,width):\n",
    "    return height*width\n",
    "\n",
    "print(\"Enter height\")\n",
    "h=int(input(\"Enter height\"))\n",
    "w=int(input(\"Enter width\"))\n",
    "\n",
    "print(f\"Area={area(width=w,height=h)}\")"
   ]
  },
  {
   "cell_type": "code",
   "execution_count": 11,
   "id": "64e2d104-025d-4432-a27c-6c8fd9b1cd33",
   "metadata": {},
   "outputs": [
    {
     "name": "stdout",
     "output_type": "stream",
     "text": [
      "It is not prime no\n"
     ]
    }
   ],
   "source": [
    "def prime(n):\n",
    "    sum=0\n",
    "    for i in range(1,n+1):\n",
    "        if(n%i==0):\n",
    "            sum=sum+1\n",
    "    if sum==2:\n",
    "        print(\"It is prime no\")\n",
    "    else:\n",
    "        print(\"It is not prime no\")\n",
    "\n",
    "prime(10)"
   ]
  },
  {
   "cell_type": "code",
   "execution_count": null,
   "id": "2d0fdeb5-b5ad-4e3d-9ef7-634931609ca6",
   "metadata": {},
   "outputs": [],
   "source": []
  }
 ],
 "metadata": {
  "kernelspec": {
   "display_name": "Python 3 (ipykernel)",
   "language": "python",
   "name": "python3"
  },
  "language_info": {
   "codemirror_mode": {
    "name": "ipython",
    "version": 3
   },
   "file_extension": ".py",
   "mimetype": "text/x-python",
   "name": "python",
   "nbconvert_exporter": "python",
   "pygments_lexer": "ipython3",
   "version": "3.11.7"
  }
 },
 "nbformat": 4,
 "nbformat_minor": 5
}
