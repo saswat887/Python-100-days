{
 "cells": [
  {
   "cell_type": "code",
   "execution_count": 1,
   "id": "139a5929-43f0-4f3f-8a8e-e4701c138eb1",
   "metadata": {},
   "outputs": [
    {
     "name": "stdout",
     "output_type": "stream",
     "text": [
      "Hello\n",
      "Bye\n"
     ]
    }
   ],
   "source": [
    "def a():\n",
    "    print(\"Hello\")\n",
    "    print(\"Bye\")\n",
    "a()"
   ]
  },
  {
   "cell_type": "code",
   "execution_count": 5,
   "id": "90c11882-aaf6-43b6-a7df-e1747d2ff9e7",
   "metadata": {},
   "outputs": [
    {
     "name": "stdout",
     "output_type": "stream",
     "text": [
      "30\n"
     ]
    }
   ],
   "source": [
    "def add(x,y):\n",
    "    return x+y\n",
    "print(add(10,20))"
   ]
  },
  {
   "cell_type": "code",
   "execution_count": 8,
   "id": "1294af0b-b0f3-4755-af00-ff41ea16cfb4",
   "metadata": {},
   "outputs": [
    {
     "name": "stdout",
     "output_type": "stream",
     "text": [
      "1\n",
      "2\n",
      "3\n",
      "4\n",
      "5\n",
      "6\n",
      "7\n",
      "8\n",
      "9\n",
      "10\n"
     ]
    }
   ],
   "source": [
    "i=1\n",
    "while i<=10:\n",
    "    print(i)\n",
    "    i=i+1"
   ]
  },
  {
   "cell_type": "code",
   "execution_count": 13,
   "id": "338835c3-84e5-4c54-bfd0-967711e8b2a5",
   "metadata": {},
   "outputs": [
    {
     "name": "stdin",
     "output_type": "stream",
     "text": [
      "ENter no 123\n"
     ]
    },
    {
     "name": "stdout",
     "output_type": "stream",
     "text": [
      "It is not pallindrome\n"
     ]
    }
   ],
   "source": [
    "num=int(input(\"ENter no\"))\n",
    "rev=0\n",
    "num2=num\n",
    "while num!=0:\n",
    "    r=num%10\n",
    "    rev=rev*10+r\n",
    "    num=num//10\n",
    "if rev==num2:\n",
    "    print(\"It is pallindrome\")\n",
    "else:\n",
    "    print(\"It is not pallindrome\")"
   ]
  },
  {
   "cell_type": "code",
   "execution_count": 17,
   "id": "b8a375a0-9da8-42cf-9b3a-27ec63b7e4d7",
   "metadata": {},
   "outputs": [
    {
     "name": "stdout",
     "output_type": "stream",
     "text": [
      "ENter range\n"
     ]
    },
    {
     "name": "stdin",
     "output_type": "stream",
     "text": [
      " 123 123 123\n"
     ]
    },
    {
     "name": "stdout",
     "output_type": "stream",
     "text": [
      "['123', '123', '123']\n"
     ]
    }
   ],
   "source": [
    "print(\"ENter range\")\n",
    "n=input().split()\n",
    "print(n)"
   ]
  },
  {
   "cell_type": "code",
   "execution_count": null,
   "id": "826451e5-8ef7-4095-8276-8bf8c123434e",
   "metadata": {},
   "outputs": [],
   "source": []
  }
 ],
 "metadata": {
  "kernelspec": {
   "display_name": "Python 3 (ipykernel)",
   "language": "python",
   "name": "python3"
  },
  "language_info": {
   "codemirror_mode": {
    "name": "ipython",
    "version": 3
   },
   "file_extension": ".py",
   "mimetype": "text/x-python",
   "name": "python",
   "nbconvert_exporter": "python",
   "pygments_lexer": "ipython3",
   "version": "3.11.7"
  }
 },
 "nbformat": 4,
 "nbformat_minor": 5
}
