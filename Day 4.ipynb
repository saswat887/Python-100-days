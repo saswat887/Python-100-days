{
 "cells": [
  {
   "cell_type": "code",
   "execution_count": 1,
   "id": "3fdb2753-a2ba-4653-9a87-8208083f0151",
   "metadata": {},
   "outputs": [],
   "source": [
    "import random"
   ]
  },
  {
   "cell_type": "code",
   "execution_count": 7,
   "id": "3ecdc4a7-d4f9-4005-87db-f96520a8dadb",
   "metadata": {},
   "outputs": [
    {
     "name": "stdout",
     "output_type": "stream",
     "text": [
      "8\n"
     ]
    }
   ],
   "source": [
    "random_integer=random.randint(1,10)\n",
    "print(random_integer)"
   ]
  },
  {
   "cell_type": "code",
   "execution_count": 18,
   "id": "bd0cad9c-0b13-4a54-9fca-9823a3e0e1a1",
   "metadata": {},
   "outputs": [
    {
     "name": "stdout",
     "output_type": "stream",
     "text": [
      "0.32590700682776463\n"
     ]
    }
   ],
   "source": [
    "float=random.random()\n",
    "print(float)"
   ]
  },
  {
   "cell_type": "code",
   "execution_count": 19,
   "id": "99bbad79-6508-4f78-8703-55cc55f8fa51",
   "metadata": {},
   "outputs": [
    {
     "name": "stdout",
     "output_type": "stream",
     "text": [
      "1.2216206216090804\n"
     ]
    }
   ],
   "source": [
    "float=random.random()*5\n",
    "print(float)"
   ]
  },
  {
   "cell_type": "code",
   "execution_count": 23,
   "id": "e7410e50-f8f8-4f8a-bbe6-b4765de50b67",
   "metadata": {},
   "outputs": [
    {
     "name": "stdout",
     "output_type": "stream",
     "text": [
      "34\n"
     ]
    }
   ],
   "source": [
    "love=random.randint(1,100)\n",
    "print(love)"
   ]
  },
  {
   "cell_type": "code",
   "execution_count": 41,
   "id": "4f2046f2-cf5e-4746-9e64-f713b2e6ff1f",
   "metadata": {},
   "outputs": [
    {
     "name": "stdout",
     "output_type": "stream",
     "text": [
      "HEAD\n"
     ]
    }
   ],
   "source": [
    "toss=random.randint(1,2)\n",
    "if toss==1:\n",
    "    print(\"HEAD\")\n",
    "elif toss==2:\n",
    "    print(\"TAIL\")"
   ]
  },
  {
   "cell_type": "code",
   "execution_count": 43,
   "id": "cca7fafe-d1dd-4edd-b12c-cc27d57dcd7d",
   "metadata": {},
   "outputs": [
    {
     "name": "stdout",
     "output_type": "stream",
     "text": [
      "['Delaware', 'Pennsylvania', 'New Jersey', 'Georgia', 'Connecticut', 'Massachusetts', 'Maryland', 'South Carolina', 'New Hampshire', 'Virginia', 'New York', 'North Carolina', 'Rhode Island', 'Vermont', 'Kentucky', 'Tennessee', 'Ohio', 'Louisiana', 'Indiana', 'Mississippi', 'Illinois', 'Alabama', 'Maine', 'Missouri', 'Arkansas', 'Michigan', 'Florida', 'Texas', 'Iowa', 'Wisconsin', 'California', 'Minnesota', 'Oregon', 'Kansas', 'West Virginia', 'Nevada', 'Nebraska', 'Colorado', 'North Dakota', 'South Dakota', 'Montana', 'Washington', 'Idaho', 'Wyoming', 'Utah', 'Oklahoma', 'New Mexico', 'Arizona', 'Alaska', 'Hawaii']\n",
      "Georgia\n"
     ]
    }
   ],
   "source": [
    "states_of_america = [\"Delaware\", \"Pennsylvania\", \"New Jersey\", \"Georgia\", \"Connecticut\", \"Massachusetts\", \"Maryland\", \"South Carolina\", \"New Hampshire\", \"Virginia\", \"New York\", \"North Carolina\", \"Rhode Island\", \"Vermont\", \"Kentucky\", \"Tennessee\", \"Ohio\", \"Louisiana\", \"Indiana\", \"Mississippi\", \"Illinois\", \"Alabama\", \"Maine\", \"Missouri\", \"Arkansas\", \"Michigan\", \"Florida\", \"Texas\", \"Iowa\", \"Wisconsin\", \"California\", \"Minnesota\", \"Oregon\", \"Kansas\", \"West Virginia\", \"Nevada\", \"Nebraska\", \"Colorado\", \"North Dakota\", \"South Dakota\", \"Montana\", \"Washington\", \"Idaho\", \"Wyoming\", \"Utah\", \"Oklahoma\", \"New Mexico\", \"Arizona\", \"Alaska\", \"Hawaii\"]\n",
    "\n",
    "print(states_of_america)\n",
    "print(states_of_america[3])\n",
    "\n",
    "\n",
    "dirty_dozen = [\"Strawberries\", \"Spinach\", \"Kale\", \"Nectarines\", \"Apples\", \"Grapes\", \"Peaches\", \"Cherries\", \"Pears\", \"Tomatoes\", \"Celery\", \"Potatoes\"]"
   ]
  },
  {
   "cell_type": "code",
   "execution_count": 52,
   "id": "ac6395c3-71d2-4167-9075-600a512fd3db",
   "metadata": {},
   "outputs": [
    {
     "name": "stdout",
     "output_type": "stream",
     "text": [
      "['cherry', 'apple', 'pear']\n",
      "apple\n",
      "pear\n",
      "apple\n",
      "['cherry', 'apple', 'orange']\n",
      "['cherry', 'apple', 'orange', 'Bananana']\n",
      "['cherry', 'apple', 'orange', 'Bananana', 'OK', 'KO']\n"
     ]
    }
   ],
   "source": [
    "fruits=[\"cherry\",\"apple\",\"pear\"]\n",
    "print(fruits)\n",
    "print(fruits[1])\n",
    "print(fruits[-1])\n",
    "print(fruits[-2])\n",
    "fruits[2]=\"orange\"\n",
    "print(fruits)\n",
    "fruits.append(\"Bananana\")\n",
    "print(fruits)\n",
    "fruits.extend([\"OK\",\"KO\"])\n",
    "print(fruits)"
   ]
  },
  {
   "cell_type": "code",
   "execution_count": 69,
   "id": "7a1643b5-b5c2-4f44-89b7-c726e79d2936",
   "metadata": {},
   "outputs": [
    {
     "name": "stdout",
     "output_type": "stream",
     "text": [
      "Sai\n"
     ]
    }
   ],
   "source": [
    "names=[\"Saswat\",\"Sai\",\"Swastik\",\"Piyush\"]\n",
    "l=len(names)-1\n",
    "l1=random.randint(0,l)\n",
    "print(names[l1])"
   ]
  },
  {
   "cell_type": "code",
   "execution_count": 70,
   "id": "5d59abf8-501f-46ac-a0db-e32946a0a938",
   "metadata": {},
   "outputs": [
    {
     "name": "stdout",
     "output_type": "stream",
     "text": [
      "[['a', 'aa', 'aaa'], ['b', 'bb', 'bbb']]\n"
     ]
    }
   ],
   "source": [
    "a=[\"a\",\"aa\",\"aaa\"]\n",
    "b=[\"b\",\"bb\",\"bbb\"]\n",
    "c=[a,b]\n",
    "print(c)"
   ]
  },
  {
   "cell_type": "code",
   "execution_count": 81,
   "id": "87953350-c15f-47ce-bc68-62defff5e6f4",
   "metadata": {},
   "outputs": [
    {
     "name": "stdout",
     "output_type": "stream",
     "text": [
      "Hiding your treasure! X marks the spot.\n"
     ]
    },
    {
     "name": "stdin",
     "output_type": "stream",
     "text": [
      " C3\n"
     ]
    },
    {
     "name": "stdout",
     "output_type": "stream",
     "text": [
      "['⬜', '️⬜️', '️⬜️']\n",
      "['⬜️', '⬜️', '️⬜️']\n",
      "['⬜️️', '⬜️️', 'X']\n"
     ]
    }
   ],
   "source": [
    "line1 = [\"⬜\",\"️⬜️\",\"️⬜️\"]\n",
    "line2 = [\"⬜️\",\"⬜️\",\"️⬜️\"]\n",
    "line3 = [\"⬜️️\",\"⬜️️\",\"⬜️️\"]\n",
    "map = [line1, line2, line3]\n",
    "print(\"Hiding your treasure! X marks the spot.\")\n",
    "position = input() # Where do you want to put the treasure?\n",
    "# Your code below\n",
    "letter = position[0].lower()\n",
    "abc = [\"a\", \"b\", \"c\"]\n",
    "letter_index = abc.index(letter)\n",
    "number_index = int(position[1]) - 1\n",
    "\n",
    "map[number_index][letter_index] = \"X\"\n",
    "\n",
    "print(f\"{line1}\\n{line2}\\n{line3}\")"
   ]
  },
  {
   "cell_type": "code",
   "execution_count": 83,
   "id": "89d26259-f8ed-41c0-a728-0fe5001b7ac3",
   "metadata": {},
   "outputs": [
    {
     "name": "stdin",
     "output_type": "stream",
     "text": [
      "What do you choose? Type 0 for Rock, 1 for Paper or 2 for Scissors.\n",
      " 2\n"
     ]
    },
    {
     "name": "stdout",
     "output_type": "stream",
     "text": [
      "\n",
      "    _______\n",
      "---'   ____)____\n",
      "          ______)\n",
      "       __________)\n",
      "      (____)\n",
      "---.__(___)\n",
      "\n",
      "Computer chose:\n",
      "\n",
      "    _______\n",
      "---'   ____)____\n",
      "          ______)\n",
      "          _______)\n",
      "         _______)\n",
      "---.__________)\n",
      "\n",
      "You win!\n"
     ]
    }
   ],
   "source": [
    "rock = '''\n",
    "    _______\n",
    "---'   ____)\n",
    "      (_____)\n",
    "      (_____)\n",
    "      (____)\n",
    "---.__(___)\n",
    "'''\n",
    "\n",
    "paper = '''\n",
    "    _______\n",
    "---'   ____)____\n",
    "          ______)\n",
    "          _______)\n",
    "         _______)\n",
    "---.__________)\n",
    "'''\n",
    "\n",
    "scissors = '''\n",
    "    _______\n",
    "---'   ____)____\n",
    "          ______)\n",
    "       __________)\n",
    "      (____)\n",
    "---.__(___)\n",
    "'''\n",
    "\n",
    "game_images = [rock, paper, scissors]\n",
    "\n",
    "user_choice = int(input(\"What do you choose? Type 0 for Rock, 1 for Paper or 2 for Scissors.\\n\"))\n",
    "print(game_images[user_choice])\n",
    "\n",
    "computer_choice = random.randint(0, 2)\n",
    "print(\"Computer chose:\")\n",
    "print(game_images[computer_choice])\n",
    "\n",
    "if user_choice >= 3 or user_choice < 0: \n",
    "  print(\"You typed an invalid number, you lose!\") \n",
    "elif user_choice == 0 and computer_choice == 2:\n",
    "  print(\"You win!\")\n",
    "elif computer_choice == 0 and user_choice == 2:\n",
    "  print(\"You lose\")\n",
    "elif computer_choice > user_choice:\n",
    "  print(\"You lose\")\n",
    "elif user_choice > computer_choice:\n",
    "  print(\"You win!\")\n",
    "elif computer_choice == user_choice:\n",
    "  print(\"It's a draw\")\n"
   ]
  },
  {
   "cell_type": "code",
   "execution_count": 87,
   "id": "b5a9b3ce-25fb-4332-832f-27ee45b37ba7",
   "metadata": {},
   "outputs": [
    {
     "name": "stdout",
     "output_type": "stream",
     "text": [
      "[[1, 2, 3], [4, 5, 6], [7, 8, 9]]\n",
      "4\n"
     ]
    }
   ],
   "source": [
    "m1=[1,2,3]\n",
    "m2=[4,5,6]\n",
    "m3=[7,8,9]\n",
    "m4=[m1,m2,m3]\n",
    "print(m4)\n",
    "print(m4[1][0])"
   ]
  },
  {
   "cell_type": "code",
   "execution_count": null,
   "id": "aac708aa-a5f6-4279-8597-e413beaf375b",
   "metadata": {},
   "outputs": [],
   "source": []
  }
 ],
 "metadata": {
  "kernelspec": {
   "display_name": "Python 3 (ipykernel)",
   "language": "python",
   "name": "python3"
  },
  "language_info": {
   "codemirror_mode": {
    "name": "ipython",
    "version": 3
   },
   "file_extension": ".py",
   "mimetype": "text/x-python",
   "name": "python",
   "nbconvert_exporter": "python",
   "pygments_lexer": "ipython3",
   "version": "3.11.7"
  }
 },
 "nbformat": 4,
 "nbformat_minor": 5
}
